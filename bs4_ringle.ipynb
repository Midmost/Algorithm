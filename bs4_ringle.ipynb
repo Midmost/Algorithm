{
  "nbformat": 4,
  "nbformat_minor": 0,
  "metadata": {
    "colab": {
      "private_outputs": true,
      "provenance": [],
      "authorship_tag": "ABX9TyP0UdkDHuYYKRC76LSJTArC",
      "include_colab_link": true
    },
    "kernelspec": {
      "name": "python3",
      "display_name": "Python 3"
    },
    "language_info": {
      "name": "python"
    }
  },
  "cells": [
    {
      "cell_type": "markdown",
      "metadata": {
        "id": "view-in-github",
        "colab_type": "text"
      },
      "source": [
        "<a href=\"https://colab.research.google.com/github/Midmost/Algorithm/blob/main/bs4_ringle.ipynb\" target=\"_parent\"><img src=\"https://colab.research.google.com/assets/colab-badge.svg\" alt=\"Open In Colab\"/></a>"
      ]
    },
    {
      "cell_type": "code",
      "execution_count": null,
      "metadata": {
        "id": "NjmSo572Z5Ij"
      },
      "outputs": [],
      "source": [
        "pip install beautifulsoup4\n"
      ]
    },
    {
      "cell_type": "code",
      "source": [
        "#@title HTML source code\n",
        "html = \"\"\"<div class=\"flex py-[8px] mt-[16px] cursor-pointer\"><img src=\"https://d38emex6h5e12i.cloudfront.net/new-theme/new-icons/adult/icon/logo/ringle/white.svg\" class=\"rounded-full w-[38px] h-[38px] ml-[16px]\"><div class=\"flex bg-white rounded-[4px] ml-[16px] px-[12px] border-1 border-gray-300 py-[8px] text-gray-700 text-[14px] text-primary\"><img src=\"https://d38emex6h5e12i.cloudfront.net/new-theme/new-icons/adult/icon/20px/notice.svg\" class=\"w-[20px] h-[20px]\"><span class=\"text-primary ml-[4px]\">대화를 클릭하면 해당하는 녹음 파트를 바로 재생할 수 있습니다.</span></div></div>\"\"\" \n",
        "\n",
        "# 문제가 생길까봐 전체 값을 가져오지 않았습니다. \n",
        "# \"대화를 클릭하면 해당하는 녹음 파트를 바로 재생할 수 있습니다.\" 부분을 추출해볼까요?"
      ],
      "metadata": {
        "id": "UP7QfIbVaJoe"
      },
      "execution_count": null,
      "outputs": []
    },
    {
      "cell_type": "code",
      "source": [
        "from bs4 import BeautifulSoup\n",
        "\n",
        "# 추출하려는 방식\n",
        "soup = BeautifulSoup(html, 'html.parser')\n",
        "text = soup.get_text(strip=True)\n",
        "print(text)"
      ],
      "metadata": {
        "id": "QdL57w5Za1rk"
      },
      "execution_count": null,
      "outputs": []
    },
    {
      "cell_type": "markdown",
      "source": [
        "우선 정석대로 사용하는 방식은 아래와 같습니다. "
      ],
      "metadata": {
        "id": "hRHecCBzlFjt"
      }
    },
    {
      "cell_type": "markdown",
      "source": [
        "\n",
        "\n",
        "```python\n",
        "import requests\n",
        "from bs4 import BeautifulSoup\n",
        "import textwrap\n",
        "import os\n",
        "\n",
        "# 웹 페이지 URL\n",
        "url = 'https://www.example.com'\n",
        "\n",
        "# 웹 페이지 요청\n",
        "response = requests.get(url)\n",
        "\n",
        "# HTML 파싱\n",
        "soup = BeautifulSoup(response.content, 'html.parser')\n",
        "\n",
        "# 텍스트 추출\n",
        "text = soup.get_text()\n",
        "\n",
        "# 줄 맞춤\n",
        "wrapper = textwrap.TextWrapper(width=80)\n",
        "text_wrapped = wrapper.fill(text)\n",
        "\n",
        "# .txt 파일 생성 및 작성\n",
        "file_path = \"/content/drive/My Drive/example.txt\"  # 파일 경로 지정\n",
        "with open(file_path, 'w', encoding='utf-8') as f:\n",
        "    f.write(text_wrapped)\n",
        "\n",
        "print(\"파일 저장이 완료되었습니다.\")\n",
        "\n",
        "```\n",
        "\n"
      ],
      "metadata": {
        "id": "Yv-4RKy8b3Q3"
      }
    },
    {
      "cell_type": "markdown",
      "source": [
        "지금 가져온 값에 말 그대로 줄맞춤만 하는 경우는 아래와 같습니다. "
      ],
      "metadata": {
        "id": "KHFvS5iwlPeg"
      }
    },
    {
      "cell_type": "code",
      "source": [
        "import textwrap\n",
        "import os\n",
        "\n",
        "# 줄 맞춤\n",
        "wrapper = textwrap.TextWrapper(width=80)\n",
        "text_wrapped = wrapper.fill(text)\n",
        "\n",
        "# .txt 파일 생성 및 작성\n",
        "file_path = \"./example.txt\"  # 파일 경로 지정\n",
        "with open(file_path, 'w', encoding='utf-8') as f:\n",
        "    f.write(text_wrapped)\n",
        "\n",
        "print(\"파일 저장이 완료되었습니다.\")"
      ],
      "metadata": {
        "id": "PZ0xOqapcAl6"
      },
      "execution_count": null,
      "outputs": []
    },
    {
      "cell_type": "markdown",
      "source": [
        "그러나 어떤 특수기호를 중심으로 줄맞춤을 하고 싶은 경우 정규식(regular expression, 그래서 re로 줄여씁니다.)을 사용하여 저장할 수 있습니다."
      ],
      "metadata": {
        "id": "iyYsfX5JliNA"
      }
    },
    {
      "cell_type": "code",
      "source": [
        "import re\n",
        "\n",
        "# 구두점을 기준으로 문장을 분리하여 리스트에 저장\n",
        "sentences = re.split(r'[.!?]+', text)\n",
        "\n",
        "# 줄바꿈을 적용하여 텍스트 파일에 저장\n",
        "with open(\"./output.txt\", \"w\") as file: # 위 코드와 어떤 점이 다른 지 잘 분석해보세요! 또 어떻게 해야 반복을 줄일 수 있을 지 생각해봅시다.\n",
        "    for sentence in sentences:\n",
        "        # 문장이 비어 있지 않은 경우\n",
        "        if sentence:\n",
        "            # 문장 끝에 구두점 추가\n",
        "            sentence = sentence.strip() + \".\"\n",
        "            # 문장을 파일에 쓰기\n",
        "            file.write(sentence + \"\\n\")\n"
      ],
      "metadata": {
        "id": "fKMqDxZfcnqk"
      },
      "execution_count": null,
      "outputs": []
    },
    {
      "cell_type": "markdown",
      "source": [
        "그러나 다시 보니 구두점말고 시간을 기준으로 나누는 것이 더 좋을 거 같아 아래와 같이 변경하였습니다. "
      ],
      "metadata": {
        "id": "CDfZTjNw4X1x"
      }
    },
    {
      "cell_type": "code",
      "source": [
        "import re\n",
        "\n",
        "soup = BeautifulSoup(html, 'html.parser')\n",
        "\n",
        "# HTML에서 텍스트 추출\n",
        "text_list = []\n",
        "for text in soup.find_all(text=True):\n",
        "    if text.parent.name not in ['style', 'script', 'head', 'title', 'meta', '[document]']:\n",
        "        text_list.append(text.strip())\n",
        "\n",
        "# 시간으로 구분하여 줄맞춤하여 txt 파일로 저장\n",
        "with open('output_time.txt', 'w') as f:\n",
        "    prev_time = ''\n",
        "    for text in text_list:\n",
        "        time = re.search(r'\\d{2}:\\d{2}', text) # re.search 키워드를 검색하여 또 다른 유용한 메서드들을 확인해보세요!\n",
        "        if time:\n",
        "            if time.group() != prev_time:\n",
        "                f.write('\\n')\n",
        "            f.write(time.group() + ' ' + text.replace(time.group(), '').strip() + '\\n')\n",
        "            prev_time = time.group()\n",
        "        else:\n",
        "            f.write(text + ' ')\n"
      ],
      "metadata": {
        "id": "-arstv3E4V9A"
      },
      "execution_count": null,
      "outputs": []
    },
    {
      "cell_type": "code",
      "source": [],
      "metadata": {
        "id": "0Yg824L56AtW"
      },
      "execution_count": null,
      "outputs": []
    }
  ]
}